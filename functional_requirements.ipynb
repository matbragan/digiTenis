{
 "cells": [
  {
   "cell_type": "code",
   "execution_count": 27,
   "metadata": {},
   "outputs": [],
   "source": [
    "# imports\n",
    "import pyodbc\n",
    "import pandas as pd\n",
    "from datetime import date, datetime"
   ]
  },
  {
   "cell_type": "code",
   "execution_count": 2,
   "metadata": {},
   "outputs": [],
   "source": [
    "# digitenis database connection\n",
    "dsn = 'sqlserverdatasource'\n",
    "user = 'sa'\n",
    "password = 'digiTenis1@'\n",
    "database = 'digitenis'\n",
    "\n",
    "conn_string = 'DSN=%s;UID=%s;PWD=%s;DATABASE=%s;' % (dsn, user, password, database)\n",
    "conn = pyodbc.connect(conn_string)"
   ]
  },
  {
   "cell_type": "code",
   "execution_count": null,
   "metadata": {},
   "outputs": [],
   "source": [
    "# dataframe tables\n",
    "fornecedor = pd.read_sql('select * from fornecedor', conn)\n",
    "telefone = pd.read_sql('select * from telefone', conn)\n",
    "funcionario = pd.read_sql('select * from funcionario', conn)\n",
    "produto = pd.read_sql('select * from produto', conn)\n",
    "venda = pd.read_sql('select * from venda', conn)\n",
    "item_venda = pd.read_sql('select * from item_venda', conn)\n",
    "estoque = pd.read_sql('select * from estoque', conn)"
   ]
  },
  {
   "attachments": {},
   "cell_type": "markdown",
   "metadata": {},
   "source": [
    "## Functional Requirements"
   ]
  },
  {
   "cell_type": "code",
   "execution_count": 11,
   "metadata": {},
   "outputs": [],
   "source": [
    "# cadastrar novos fornecedores\n",
    "fornecedor.loc[len(fornecedor)] = [21, '6478912300015', 'Olympikus', 'contato@olympikus.com.br']"
   ]
  },
  {
   "cell_type": "code",
   "execution_count": 13,
   "metadata": {},
   "outputs": [],
   "source": [
    "# cadastrar novos produtos\n",
    "produto.loc[len(produto)] = [21, 'Anyway 2', 39, 'Corrida', 80, 119.90, 21]"
   ]
  },
  {
   "cell_type": "code",
   "execution_count": 14,
   "metadata": {},
   "outputs": [],
   "source": [
    "# cadastrar novos funcionários\n",
    "funcionario.loc[len(funcionario)] = [19, 'Gisele', 'Oliveira', '45695135726', 'Vendedor']"
   ]
  },
  {
   "cell_type": "code",
   "execution_count": 28,
   "metadata": {},
   "outputs": [],
   "source": [
    "# efetivar vendas\n",
    "venda.loc[len(venda)] = [29, 359.70, date.today(), datetime.now().time(), 19]\n",
    "\n",
    "item_venda.loc[len(item_venda)] = [21, 29, 3, 35.97]\n"
   ]
  },
  {
   "cell_type": "code",
   "execution_count": 32,
   "metadata": {},
   "outputs": [
    {
     "data": {
      "text/html": [
       "<div>\n",
       "<style scoped>\n",
       "    .dataframe tbody tr th:only-of-type {\n",
       "        vertical-align: middle;\n",
       "    }\n",
       "\n",
       "    .dataframe tbody tr th {\n",
       "        vertical-align: top;\n",
       "    }\n",
       "\n",
       "    .dataframe thead th {\n",
       "        text-align: right;\n",
       "    }\n",
       "</style>\n",
       "<table border=\"1\" class=\"dataframe\">\n",
       "  <thead>\n",
       "    <tr style=\"text-align: right;\">\n",
       "      <th></th>\n",
       "      <th>nome</th>\n",
       "      <th>email</th>\n",
       "    </tr>\n",
       "  </thead>\n",
       "  <tbody>\n",
       "    <tr>\n",
       "      <th>0</th>\n",
       "      <td>Nike</td>\n",
       "      <td>contato@nike.com.br</td>\n",
       "    </tr>\n",
       "    <tr>\n",
       "      <th>1</th>\n",
       "      <td>Adidas</td>\n",
       "      <td>contato@adidas.com.br</td>\n",
       "    </tr>\n",
       "    <tr>\n",
       "      <th>2</th>\n",
       "      <td>Puma</td>\n",
       "      <td>contato@puma.com.br</td>\n",
       "    </tr>\n",
       "    <tr>\n",
       "      <th>3</th>\n",
       "      <td>Mizuno</td>\n",
       "      <td>contato@mizuno.com.br</td>\n",
       "    </tr>\n",
       "    <tr>\n",
       "      <th>4</th>\n",
       "      <td>Asics</td>\n",
       "      <td>contato@asics.com.br</td>\n",
       "    </tr>\n",
       "    <tr>\n",
       "      <th>5</th>\n",
       "      <td>Under Armour</td>\n",
       "      <td>contato@underarmour.com.br</td>\n",
       "    </tr>\n",
       "    <tr>\n",
       "      <th>6</th>\n",
       "      <td>New Balance</td>\n",
       "      <td>contato@newbalance.com.br</td>\n",
       "    </tr>\n",
       "    <tr>\n",
       "      <th>7</th>\n",
       "      <td>Skechers</td>\n",
       "      <td>contato@skechers.com.br</td>\n",
       "    </tr>\n",
       "    <tr>\n",
       "      <th>8</th>\n",
       "      <td>Reebok</td>\n",
       "      <td>contato@reebok.com.br</td>\n",
       "    </tr>\n",
       "    <tr>\n",
       "      <th>9</th>\n",
       "      <td>Fila</td>\n",
       "      <td>contato@fila.com.br</td>\n",
       "    </tr>\n",
       "    <tr>\n",
       "      <th>10</th>\n",
       "      <td>Brooks</td>\n",
       "      <td>contato@brooks.com.br</td>\n",
       "    </tr>\n",
       "    <tr>\n",
       "      <th>11</th>\n",
       "      <td>Salomon</td>\n",
       "      <td>contato@salomon.com.br</td>\n",
       "    </tr>\n",
       "    <tr>\n",
       "      <th>12</th>\n",
       "      <td>Hoka One One</td>\n",
       "      <td>contato@hokaoneone.com.br</td>\n",
       "    </tr>\n",
       "    <tr>\n",
       "      <th>13</th>\n",
       "      <td>On Running</td>\n",
       "      <td>contato@on-running.com.br</td>\n",
       "    </tr>\n",
       "    <tr>\n",
       "      <th>14</th>\n",
       "      <td>La Sportiva</td>\n",
       "      <td>contato@lasportiva.com.br</td>\n",
       "    </tr>\n",
       "    <tr>\n",
       "      <th>15</th>\n",
       "      <td>Merrell</td>\n",
       "      <td>contato@merrell.com.br</td>\n",
       "    </tr>\n",
       "    <tr>\n",
       "      <th>16</th>\n",
       "      <td>Newton Running</td>\n",
       "      <td>contato@newtonrunning.com.br</td>\n",
       "    </tr>\n",
       "    <tr>\n",
       "      <th>17</th>\n",
       "      <td>Altra</td>\n",
       "      <td>contato@altrarunning.com.br</td>\n",
       "    </tr>\n",
       "    <tr>\n",
       "      <th>18</th>\n",
       "      <td>Topper</td>\n",
       "      <td>contato@topper.com.br</td>\n",
       "    </tr>\n",
       "    <tr>\n",
       "      <th>19</th>\n",
       "      <td>K-Swiss</td>\n",
       "      <td>contato@kswiss.com.br</td>\n",
       "    </tr>\n",
       "    <tr>\n",
       "      <th>20</th>\n",
       "      <td>Olympikus</td>\n",
       "      <td>contato@olympikus.com.br</td>\n",
       "    </tr>\n",
       "  </tbody>\n",
       "</table>\n",
       "</div>"
      ],
      "text/plain": [
       "              nome                         email\n",
       "0             Nike           contato@nike.com.br\n",
       "1           Adidas         contato@adidas.com.br\n",
       "2             Puma           contato@puma.com.br\n",
       "3           Mizuno         contato@mizuno.com.br\n",
       "4            Asics          contato@asics.com.br\n",
       "5     Under Armour    contato@underarmour.com.br\n",
       "6      New Balance     contato@newbalance.com.br\n",
       "7         Skechers       contato@skechers.com.br\n",
       "8           Reebok         contato@reebok.com.br\n",
       "9             Fila           contato@fila.com.br\n",
       "10          Brooks         contato@brooks.com.br\n",
       "11         Salomon        contato@salomon.com.br\n",
       "12    Hoka One One     contato@hokaoneone.com.br\n",
       "13      On Running     contato@on-running.com.br\n",
       "14     La Sportiva     contato@lasportiva.com.br\n",
       "15         Merrell        contato@merrell.com.br\n",
       "16  Newton Running  contato@newtonrunning.com.br\n",
       "17           Altra   contato@altrarunning.com.br\n",
       "18          Topper         contato@topper.com.br\n",
       "19         K-Swiss         contato@kswiss.com.br\n",
       "20       Olympikus      contato@olympikus.com.br"
      ]
     },
     "execution_count": 32,
     "metadata": {},
     "output_type": "execute_result"
    }
   ],
   "source": [
    "# visualizar informações de contato dos fornecedores\n",
    "fornecedor[['nome', 'email']]"
   ]
  },
  {
   "cell_type": "code",
   "execution_count": 43,
   "metadata": {},
   "outputs": [],
   "source": [
    "# atualizar valor de venda dos produtos\n",
    "produto.loc[produto['id_produto'] == 21, 'valor_venda'] = 323.73"
   ]
  },
  {
   "cell_type": "code",
   "execution_count": null,
   "metadata": {},
   "outputs": [],
   "source": [
    "# visualizar estoque por produto\n"
   ]
  },
  {
   "cell_type": "code",
   "execution_count": null,
   "metadata": {},
   "outputs": [],
   "source": []
  }
 ],
 "metadata": {
  "kernelspec": {
   "display_name": "venv",
   "language": "python",
   "name": "python3"
  },
  "language_info": {
   "codemirror_mode": {
    "name": "ipython",
    "version": 3
   },
   "file_extension": ".py",
   "mimetype": "text/x-python",
   "name": "python",
   "nbconvert_exporter": "python",
   "pygments_lexer": "ipython3",
   "version": "3.10.6"
  },
  "orig_nbformat": 4
 },
 "nbformat": 4,
 "nbformat_minor": 2
}
