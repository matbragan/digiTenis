{
 "cells": [
  {
   "cell_type": "code",
   "execution_count": 1,
   "metadata": {},
   "outputs": [],
   "source": [
    "# imports\n",
    "import pyodbc\n",
    "import pandas as pd\n",
    "from datetime import date, datetime"
   ]
  },
  {
   "cell_type": "code",
   "execution_count": 2,
   "metadata": {},
   "outputs": [],
   "source": [
    "# digitenis database connection - linux connection\n",
    "dsn = 'sqlserverdatasource'\n",
    "user = 'sa'\n",
    "password = 'digiTenis1@'\n",
    "database = 'digitenis'\n",
    "\n",
    "conn_string = 'DSN=%s;UID=%s;PWD=%s;DATABASE=%s;' % (dsn, user, password, database)\n",
    "conn = pyodbc.connect(conn_string)"
   ]
  },
  {
   "cell_type": "code",
   "execution_count": null,
   "metadata": {},
   "outputs": [],
   "source": [
    "# digitenis database connection - windows connection (localhost)\n",
    "conn_dados = (\n",
    "    \"Driver={SQL Server};\"\n",
    "    \"Server=cmd->hostname;\"\n",
    "    \"Database=digitenis\"\n",
    ")\n",
    "\n",
    "conn = pyodbc.connect(conn_dados)"
   ]
  },
  {
   "cell_type": "code",
   "execution_count": null,
   "metadata": {},
   "outputs": [],
   "source": [
    "# dataframe tables\n",
    "fornecedor = pd.read_sql('select * from fornecedor', conn)\n",
    "telefone = pd.read_sql('select * from telefone', conn)\n",
    "funcionario = pd.read_sql('select * from funcionario', conn)\n",
    "produto = pd.read_sql('select * from produto', conn)\n",
    "venda = pd.read_sql('select * from venda', conn)\n",
    "item_venda = pd.read_sql('select * from item_venda', conn)\n",
    "estoque = pd.read_sql('select * from estoque', conn)"
   ]
  },
  {
   "attachments": {},
   "cell_type": "markdown",
   "metadata": {},
   "source": [
    "## Functional Requirements"
   ]
  },
  {
   "cell_type": "code",
   "execution_count": 11,
   "metadata": {},
   "outputs": [],
   "source": [
    "# cadastrar novos fornecedores\n",
    "fornecedor.loc[len(fornecedor)] = [21, '6478912300015', 'Olympikus', 'contato@olympikus.com.br']"
   ]
  },
  {
   "cell_type": "code",
   "execution_count": 13,
   "metadata": {},
   "outputs": [],
   "source": [
    "# cadastrar novos produtos\n",
    "produto.loc[len(produto)] = [21, 'Anyway 2', 39, 'Corrida', 80, 119.90, 21]"
   ]
  },
  {
   "cell_type": "code",
   "execution_count": 14,
   "metadata": {},
   "outputs": [],
   "source": [
    "# cadastrar novos funcionários\n",
    "funcionario.loc[len(funcionario)] = [19, 'Gisele', 'Oliveira', '45695135726', 'Vendedor']"
   ]
  },
  {
   "cell_type": "code",
   "execution_count": 28,
   "metadata": {},
   "outputs": [],
   "source": [
    "# efetivar vendas\n",
    "venda.loc[len(venda)] = [29, 359.70, date.today(), datetime.now().time(), 19]\n",
    "\n",
    "item_venda.loc[len(item_venda)] = [21, 29, 3, 35.97]\n"
   ]
  },
  {
   "cell_type": "code",
   "execution_count": null,
   "metadata": {},
   "outputs": [],
   "source": [
    "# visualizar informações de contato dos fornecedores\n",
    "fornecedor[['nome', 'email']]"
   ]
  },
  {
   "cell_type": "code",
   "execution_count": 43,
   "metadata": {},
   "outputs": [],
   "source": [
    "# atualizar valor de venda dos produtos\n",
    "produto.loc[produto['id_produto'] == 21, 'valor_venda'] = 323.73"
   ]
  },
  {
   "cell_type": "code",
   "execution_count": null,
   "metadata": {},
   "outputs": [],
   "source": [
    "#visualizar estoque por produto\n",
    "p_e = produto.merge(estoque, how=\"inner\", on=\"id_produto\")\n",
    "\n",
    "p_e[[\"id_produto\", \"nome\", \"tamanho\", \"quantidade\"]].loc[p_e[\"id_produto\"] == 20]"
   ]
  },
  {
   "cell_type": "code",
   "execution_count": null,
   "metadata": {},
   "outputs": [],
   "source": [
    "#visualizar vendas do dia\n",
    "v_iv = venda.merge(item_venda, how=\"inner\", on=\"id_venda\")\n",
    "\n",
    "v_iv_p = v_iv.merge(produto, how=\"inner\", on=\"id_produto\")\n",
    "\n",
    "v_iv_p[[\"data\", \"nome\", \"quantidade\", \"desconto\", \"valor_total\"]].loc[v_iv_p[\"data\"] == '2023-03-21']"
   ]
  },
  {
   "cell_type": "code",
   "execution_count": null,
   "metadata": {},
   "outputs": [],
   "source": [
    "#visualizar dias com maiores vendas\n",
    "venda[[\"data\", \"valor_total\"]].groupby(by=\"data\").sum(\"valor_total\").sort_values(by=\"valor_total\", ascending=False)"
   ]
  },
  {
   "cell_type": "code",
   "execution_count": null,
   "metadata": {},
   "outputs": [],
   "source": [
    "#visualizar funcionarios com maiores vendas\n",
    "v_f = venda.merge(funcionario, how=\"inner\", on=\"id_funcionario\")\n",
    "\n",
    "v_f[[\"primeiro_nome\", \"valor_total\"]].groupby(by=\"primeiro_nome\").sum(\"valor_total\").sort_values(by=\"valor_total\", ascending=False)"
   ]
  },
  {
   "cell_type": "code",
   "execution_count": null,
   "metadata": {},
   "outputs": [],
   "source": [
    "#visualizar lista dos itens comprados por venda\n",
    "iv_p = item_venda.merge(produto, how=\"inner\", on=\"id_produto\")\n",
    "iv_p_v = iv_p.merge(venda, how=\"inner\", on=\"id_venda\")\n",
    "\n",
    "iv_p_v[[\"id_venda\", \"nome\", \"tamanho\", \"categoria\", \"data\", \"quantidade\"]].sort_values(\"id_venda\")"
   ]
  },
  {
   "cell_type": "code",
   "execution_count": null,
   "metadata": {},
   "outputs": [],
   "source": [
    "#visualizar lista dos itens mais vendidos por funcionario\n",
    "v_iv = venda.merge(item_venda, how='inner', on='id_venda')\n",
    "v_iv_p = v_iv.merge(produto, how='inner', on='id_produto')\n",
    "v_iv_p_f = v_iv_p.merge(funcionario, how='inner', on='id_funcionario')\n",
    "\n",
    "v_iv_p_f[[\"primeiro_nome\", \"nome\", \"quantidade\"]].groupby(by=[\"primeiro_nome\", \"nome\"]).sum(\"quantidade\").sort_values(\"quantidade\", ascending=False)"
   ]
  },
  {
   "cell_type": "code",
   "execution_count": null,
   "metadata": {},
   "outputs": [],
   "source": [
    "#Visualizar média de saída de cada produto por dia\n",
    "iv_v = item_venda.merge(venda, how='inner', on='id_venda')\n",
    "iv_v_p = iv_v.merge(produto, how='inner', on='id_produto')\n",
    "iv_v_p[[\"nome\", \"quantidade\"]].groupby(by=\"nome\").mean(\"quantidade\")"
   ]
  },
  {
   "cell_type": "code",
   "execution_count": null,
   "metadata": {},
   "outputs": [],
   "source": [
    "#Calcular a quantidade de dias em que o estoque deve romper, considerando a média de saída diária dos produtos\n",
    "join1 = item_venda.merge(venda, how='inner', on='id_venda')\n",
    "join2 = join1.merge(produto, how='inner', on='id_produto')\n",
    "dados1 = join2[[\"id_produto\", \"quantidade\"]].groupby(by=\"id_produto\").mean(\"quantidade\")\n",
    "join3 = dados1.merge(estoque, how='inner', on='id_produto')\n",
    "join3['previsao_dias_rompimento'] = join3['quantidade_y'] / join3['quantidade_x']"
   ]
  },
  {
   "cell_type": "code",
   "execution_count": null,
   "metadata": {},
   "outputs": [],
   "source": [
    "#Atualizar dados cadastrais dos fornecedores\n",
    "fornecedor.loc[fornecedor['id_fornecedor'] == 20, 'email'] = 'contato2@fila.com.br'"
   ]
  },
  {
   "cell_type": "code",
   "execution_count": null,
   "metadata": {},
   "outputs": [],
   "source": [
    "#Atualizar dados cadastrais dos funcionários\n",
    "funcionario.loc[funcionario['id_funcionario'] == 12, 'cargo'] = 'Gerente'"
   ]
  },
  {
   "cell_type": "code",
   "execution_count": null,
   "metadata": {},
   "outputs": [],
   "source": [
    "#Visualizar média dos valores de vendas\n",
    "venda[\"valor_total\"].mean()"
   ]
  },
  {
   "cell_type": "code",
   "execution_count": null,
   "metadata": {},
   "outputs": [],
   "source": [
    "#Visualizar média de itens por venda\n",
    "join1 = venda.merge(item_venda, how='inner', on='id_venda')\n",
    "join1['total_vendas'] = join1['id_venda'].count()\n",
    "join1['total_itens_vendidos'] = join1['quantidade'].sum()\n",
    "join1['media_itens_por_venda'] = join1['total_itens_vendidos'] / join1['total_vendas']\n",
    "join1[['total_vendas', 'total_itens_vendidos', 'media_itens_por_venda']]"
   ]
  },
  {
   "cell_type": "code",
   "execution_count": null,
   "metadata": {},
   "outputs": [],
   "source": [
    "#Visualizar categoria de produto que mais é vendido\n",
    "join1 = item_venda.merge(produto, how='inner', on='id_produto')\n",
    "join1[['categoria', 'quantidade']].groupby(by='categoria').sum('quantidade').sort_values(by='quantidade', ascending=False)"
   ]
  },
  {
   "cell_type": "code",
   "execution_count": null,
   "metadata": {},
   "outputs": [],
   "source": [
    "#Dar baixa no estoque\n",
    "estoque.loc[estoque['id_produto'] == 3, 'quantidade'] -= 1\n",
    "estoque"
   ]
  },
  {
   "cell_type": "code",
   "execution_count": null,
   "metadata": {},
   "outputs": [],
   "source": [
    "#Dar entrada no estoque\n",
    "estoque.loc[estoque['id_produto'] == 3, 'quantidade'] += 1\n",
    "estoque"
   ]
  }
 ],
 "metadata": {
  "kernelspec": {
   "display_name": "venv",
   "language": "python",
   "name": "python3"
  },
  "language_info": {
   "codemirror_mode": {
    "name": "ipython",
    "version": 3
   },
   "file_extension": ".py",
   "mimetype": "text/x-python",
   "name": "python",
   "nbconvert_exporter": "python",
   "pygments_lexer": "ipython3",
   "version": "3.10.6"
  },
  "orig_nbformat": 4
 },
 "nbformat": 4,
 "nbformat_minor": 2
}
